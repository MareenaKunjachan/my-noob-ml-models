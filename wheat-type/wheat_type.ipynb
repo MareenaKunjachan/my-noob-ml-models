{
  "nbformat": 4,
  "nbformat_minor": 0,
  "metadata": {
    "colab": {
      "name": "wheat-type.ipynb",
      "provenance": [],
      "collapsed_sections": []
    },
    "kernelspec": {
      "name": "python3",
      "display_name": "Python 3"
    },
    "language_info": {
      "name": "python"
    }
  },
  "cells": [
    {
      "cell_type": "markdown",
      "metadata": {
        "id": "1jXRNAXxFES8"
      },
      "source": [
        "# Wheat Variety Classification\n",
        "\n",
        "\n",
        "## 1. Problem Statement\n",
        "\n",
        "Can we predict the verity of wheat using clustering technique with the attributes like geometrical properties?\n",
        "\n",
        "## 2. Data\n",
        "\n",
        "Measurements of geometrical properties of kernels belonging to three different varieties of wheat: Kama, Rosa and Canadian, 70 elements each, randomly selected for the experiment.\n",
        "\n",
        "Read more on it in the website:\n",
        "http://archive.ics.uci.edu/ml/datasets/seeds\n",
        "\n",
        "## 3. Evaluation\n",
        "\n",
        "Use clustering algorithm (K-means, etc.) to develop a CLUSTERING model to predict the variety of wheat.\n",
        "\n",
        "## 4. Features\n",
        "\n",
        "**Data Dictionary**\n",
        "1. area A,\n",
        "2. perimeter P,\n",
        "3. compactness C = 4piA/P^2,\n",
        "4. length of kernel,\n",
        "5. width of kernel,\n",
        "6. asymmetry coefficient\n",
        "7. length of kernel groove. \n",
        "\n",
        "All of these parameters were real-valued continuous."
      ]
    },
    {
      "cell_type": "code",
      "metadata": {
        "id": "JFPobX4tHRua"
      },
      "source": [
        "import pandas as pd\n",
        "import numpy as np\n",
        "import matplotlib.pyplot as plt\n",
        "from sklearn.cluster import KMeans\n",
        "from sklearn import metrics"
      ],
      "execution_count": 91,
      "outputs": []
    },
    {
      "cell_type": "code",
      "metadata": {
        "colab": {
          "base_uri": "https://localhost:8080/",
          "height": 203
        },
        "id": "z36Q4SRjJLZa",
        "outputId": "cc717cb4-32a7-45df-b1f8-7516178cc422"
      },
      "source": [
        "# load data\n",
        "wheat_data = pd.read_csv(\"drive/MyDrive/Colab Notebooks/seeds_dataset.csv\")\n",
        "wheat_data.head()"
      ],
      "execution_count": 147,
      "outputs": [
        {
          "output_type": "execute_result",
          "data": {
            "text/html": [
              "<div>\n",
              "<style scoped>\n",
              "    .dataframe tbody tr th:only-of-type {\n",
              "        vertical-align: middle;\n",
              "    }\n",
              "\n",
              "    .dataframe tbody tr th {\n",
              "        vertical-align: top;\n",
              "    }\n",
              "\n",
              "    .dataframe thead th {\n",
              "        text-align: right;\n",
              "    }\n",
              "</style>\n",
              "<table border=\"1\" class=\"dataframe\">\n",
              "  <thead>\n",
              "    <tr style=\"text-align: right;\">\n",
              "      <th></th>\n",
              "      <th>area</th>\n",
              "      <th>perimeter</th>\n",
              "      <th>compactness</th>\n",
              "      <th>length</th>\n",
              "      <th>width</th>\n",
              "      <th>asymmetry_coeff</th>\n",
              "      <th>groove_length</th>\n",
              "      <th>kernel_type</th>\n",
              "    </tr>\n",
              "  </thead>\n",
              "  <tbody>\n",
              "    <tr>\n",
              "      <th>0</th>\n",
              "      <td>15.26</td>\n",
              "      <td>14.84</td>\n",
              "      <td>0.8710</td>\n",
              "      <td>5.763</td>\n",
              "      <td>3.312</td>\n",
              "      <td>2.221</td>\n",
              "      <td>5.220</td>\n",
              "      <td>1</td>\n",
              "    </tr>\n",
              "    <tr>\n",
              "      <th>1</th>\n",
              "      <td>14.88</td>\n",
              "      <td>14.57</td>\n",
              "      <td>0.8811</td>\n",
              "      <td>5.554</td>\n",
              "      <td>3.333</td>\n",
              "      <td>1.018</td>\n",
              "      <td>4.956</td>\n",
              "      <td>1</td>\n",
              "    </tr>\n",
              "    <tr>\n",
              "      <th>2</th>\n",
              "      <td>14.29</td>\n",
              "      <td>14.09</td>\n",
              "      <td>0.9050</td>\n",
              "      <td>5.291</td>\n",
              "      <td>3.337</td>\n",
              "      <td>2.699</td>\n",
              "      <td>4.825</td>\n",
              "      <td>1</td>\n",
              "    </tr>\n",
              "    <tr>\n",
              "      <th>3</th>\n",
              "      <td>13.84</td>\n",
              "      <td>13.94</td>\n",
              "      <td>0.8955</td>\n",
              "      <td>5.324</td>\n",
              "      <td>3.379</td>\n",
              "      <td>2.259</td>\n",
              "      <td>4.805</td>\n",
              "      <td>1</td>\n",
              "    </tr>\n",
              "    <tr>\n",
              "      <th>4</th>\n",
              "      <td>16.14</td>\n",
              "      <td>14.99</td>\n",
              "      <td>0.9034</td>\n",
              "      <td>5.658</td>\n",
              "      <td>3.562</td>\n",
              "      <td>1.355</td>\n",
              "      <td>5.175</td>\n",
              "      <td>1</td>\n",
              "    </tr>\n",
              "  </tbody>\n",
              "</table>\n",
              "</div>"
            ],
            "text/plain": [
              "    area  perimeter  compactness  ...  asymmetry_coeff  groove_length  kernel_type\n",
              "0  15.26      14.84       0.8710  ...            2.221          5.220            1\n",
              "1  14.88      14.57       0.8811  ...            1.018          4.956            1\n",
              "2  14.29      14.09       0.9050  ...            2.699          4.825            1\n",
              "3  13.84      13.94       0.8955  ...            2.259          4.805            1\n",
              "4  16.14      14.99       0.9034  ...            1.355          5.175            1\n",
              "\n",
              "[5 rows x 8 columns]"
            ]
          },
          "metadata": {
            "tags": []
          },
          "execution_count": 147
        }
      ]
    },
    {
      "cell_type": "code",
      "metadata": {
        "colab": {
          "base_uri": "https://localhost:8080/"
        },
        "id": "_23HjtbPKZBm",
        "outputId": "bb622cde-8459-459b-8c60-7004b5670ffa"
      },
      "source": [
        "wheat_data.info()"
      ],
      "execution_count": 148,
      "outputs": [
        {
          "output_type": "stream",
          "text": [
            "<class 'pandas.core.frame.DataFrame'>\n",
            "RangeIndex: 210 entries, 0 to 209\n",
            "Data columns (total 8 columns):\n",
            " #   Column           Non-Null Count  Dtype  \n",
            "---  ------           --------------  -----  \n",
            " 0   area             210 non-null    float64\n",
            " 1   perimeter        210 non-null    float64\n",
            " 2   compactness      210 non-null    float64\n",
            " 3   length           210 non-null    float64\n",
            " 4   width            210 non-null    float64\n",
            " 5   asymmetry_coeff  210 non-null    float64\n",
            " 6   groove_length    210 non-null    float64\n",
            " 7   kernel_type      210 non-null    int64  \n",
            "dtypes: float64(7), int64(1)\n",
            "memory usage: 13.2 KB\n"
          ],
          "name": "stdout"
        }
      ]
    },
    {
      "cell_type": "code",
      "metadata": {
        "id": "wlyKKDboQgX1"
      },
      "source": [
        "# set up the training and test data\n",
        "X = wheat_data.drop([\"kernel_type\"], axis=1)"
      ],
      "execution_count": 149,
      "outputs": []
    },
    {
      "cell_type": "code",
      "metadata": {
        "id": "Sxw-dnwfPTwx"
      },
      "source": [
        "# since we already know the number of varieties that are there in the data, k = 3 \n",
        "# instantiate the KMeans class with 3 clusters\n",
        "kmeans = KMeans(n_clusters=3, random_state=29)\n",
        "\n",
        "# fit the data and predict the set with test set y\n",
        "y_preds = kmeans.fit_predict(X)"
      ],
      "execution_count": 150,
      "outputs": []
    },
    {
      "cell_type": "code",
      "metadata": {
        "colab": {
          "base_uri": "https://localhost:8080/"
        },
        "id": "jj3WNhzEZ1WX",
        "outputId": "39a0113c-7245-4850-da29-979065d2ae18"
      },
      "source": [
        "y_preds"
      ],
      "execution_count": 151,
      "outputs": [
        {
          "output_type": "execute_result",
          "data": {
            "text/plain": [
              "array([2, 2, 2, 2, 2, 2, 2, 2, 2, 2, 2, 2, 2, 2, 2, 2, 1, 2, 2, 1, 2, 2,\n",
              "       2, 2, 2, 2, 1, 2, 2, 2, 2, 2, 2, 2, 2, 2, 2, 0, 2, 1, 2, 2, 2, 2,\n",
              "       2, 2, 2, 2, 2, 2, 2, 2, 2, 2, 2, 2, 2, 2, 2, 2, 1, 1, 1, 1, 2, 2,\n",
              "       2, 2, 2, 1, 0, 0, 0, 0, 0, 0, 0, 0, 0, 0, 0, 0, 0, 0, 0, 0, 0, 0,\n",
              "       0, 0, 0, 0, 0, 0, 0, 0, 0, 0, 0, 0, 2, 0, 0, 0, 0, 0, 0, 0, 0, 0,\n",
              "       0, 0, 0, 0, 0, 0, 0, 0, 0, 0, 0, 0, 2, 0, 2, 0, 0, 0, 0, 0, 0, 0,\n",
              "       2, 2, 2, 2, 0, 2, 2, 2, 1, 1, 1, 1, 1, 1, 1, 1, 1, 1, 1, 1, 1, 1,\n",
              "       1, 1, 1, 1, 1, 1, 1, 1, 1, 1, 1, 1, 1, 1, 1, 1, 1, 1, 1, 1, 1, 1,\n",
              "       1, 1, 1, 2, 1, 1, 1, 1, 1, 1, 1, 1, 1, 1, 1, 1, 1, 1, 1, 1, 1, 1,\n",
              "       1, 1, 1, 2, 1, 1, 1, 1, 1, 1, 1, 1], dtype=int32)"
            ]
          },
          "metadata": {
            "tags": []
          },
          "execution_count": 151
        }
      ]
    },
    {
      "cell_type": "code",
      "metadata": {
        "colab": {
          "base_uri": "https://localhost:8080/"
        },
        "id": "2W81DgtUU2M7",
        "outputId": "8394ddb9-c140-4fdf-a233-c111e93d6e5a"
      },
      "source": [
        "# get the unique values of labels from the predicted values\n",
        "unique_labels = np.unique(y_preds)\n",
        "unique_labels"
      ],
      "execution_count": 152,
      "outputs": [
        {
          "output_type": "execute_result",
          "data": {
            "text/plain": [
              "array([0, 1, 2], dtype=int32)"
            ]
          },
          "metadata": {
            "tags": []
          },
          "execution_count": 152
        }
      ]
    },
    {
      "cell_type": "code",
      "metadata": {
        "id": "4eX72q0vVQRS",
        "colab": {
          "base_uri": "https://localhost:8080/",
          "height": 281
        },
        "outputId": "9108996a-aaf0-4b66-e782-e0f8c26a2e65"
      },
      "source": [
        "# get the centroids for the three clusters\n",
        "centroids = kmeans.cluster_centers_\n",
        "\n",
        "# plotting the results\n",
        "for i in unique_labels:\n",
        "    plt.scatter(X.values[y_preds == i, 0] , X.values[y_preds == i , 1])\n",
        "plt.legend([\"1: Kama\", \"2: Rosa\", \"3: Canadian\" ])\n",
        "plt.scatter(centroids[:,0] , centroids[:,1] , s = 80, color = 'k')\n",
        "plt.title(\"Wheat Variety Cluster\")\n",
        "plt.show()"
      ],
      "execution_count": 154,
      "outputs": [
        {
          "output_type": "display_data",
          "data": {
            "image/png": "[encoded data removed]",
            "text/plain": [
              "<Figure size 432x288 with 1 Axes>"
            ]
          },
          "metadata": {
            "tags": [],
            "needs_background": "light"
          }
        }
      ]
    },
    {
      "cell_type": "markdown",
      "metadata": {
        "id": "5jwqYgtLoRu8"
      },
      "source": [
        "## Clustering Evaluation"
      ]
    },
    {
      "cell_type": "code",
      "metadata": {
        "colab": {
          "base_uri": "https://localhost:8080/"
        },
        "id": "42oiNXSRkuXW",
        "outputId": "8e20ed57-ddf8-4fe0-8bf6-2fd7d3b3a81f"
      },
      "source": [
        "y_truth = wheat_data[\"kernel_type\"]\n",
        "score = metrics.adjusted_rand_score(y_preds, y_truth)\n",
        "\n",
        "print(f\"The scoring of the prediction of the model: {score*100: 0.2f}%\") "
      ],
      "execution_count": 173,
      "outputs": [
        {
          "output_type": "stream",
          "text": [
            "The accuracy of the model:  71.66%\n"
          ],
          "name": "stdout"
        }
      ]
    },
    {
      "cell_type": "markdown",
      "metadata": {
        "id": "02QLMN1qrKwG"
      },
      "source": [
        "## Conclusion\n",
        "\n",
        "The KMeans model predicts the values with 71.66% accuracy.\n",
        "\n",
        "More work to be done to bring the accuracy up by hyperparameter tuning. Or maybe use multi-class classification algorithm.\n"
      ]
    }
  ]
}